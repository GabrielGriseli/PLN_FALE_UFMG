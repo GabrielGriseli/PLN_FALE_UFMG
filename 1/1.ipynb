{
  "nbformat": 4,
  "nbformat_minor": 0,
  "metadata": {
    "colab": {
      "provenance": [],
      "authorship_tag": "ABX9TyNdPfKi/SuMK6ClaUWzwdgS",
      "include_colab_link": true
    },
    "kernelspec": {
      "name": "python3",
      "display_name": "Python 3"
    },
    "language_info": {
      "name": "python"
    }
  },
  "cells": [
    {
      "cell_type": "markdown",
      "metadata": {
        "id": "view-in-github",
        "colab_type": "text"
      },
      "source": [
        "<a href=\"https://colab.research.google.com/github/GabrielGriseli/PLN_FALE_UFMG/blob/main/1/1.ipynb\" target=\"_parent\"><img src=\"https://colab.research.google.com/assets/colab-badge.svg\" alt=\"Open In Colab\"/></a>"
      ]
    },
    {
      "cell_type": "markdown",
      "source": [
        "# Aula 1.1\n",
        "## LIG948B: Processamento de Língua Natural"
      ],
      "metadata": {
        "id": "RJE3ZIZheSYT"
      }
    },
    {
      "cell_type": "markdown",
      "source": [
        "Exemplo 1"
      ],
      "metadata": {
        "id": "QWo7Cxtbek4_"
      }
    },
    {
      "cell_type": "code",
      "execution_count": 2,
      "metadata": {
        "colab": {
          "base_uri": "https://localhost:8080/"
        },
        "id": "spdyPfv5bfeV",
        "outputId": "4be31be1-cfcb-4085-cdcf-f439a8d01dad"
      },
      "outputs": [
        {
          "output_type": "execute_result",
          "data": {
            "text/plain": [
              "10"
            ]
          },
          "metadata": {},
          "execution_count": 2
        }
      ],
      "source": [
        "import re\n",
        "\n",
        "poema = \"\"\"Ainda que mal pergunte,\n",
        "ainda que mal respondas;\n",
        "ainda que mal te entenda,\n",
        "ainda que mal repitas;\n",
        "ainda que mal insista,\n",
        "ainda que mal desculpes;\n",
        "ainda que mal me exprima,\n",
        "ainda que mal me julgues;\n",
        "ainda que mal me mostre,\n",
        "ainda que mal me vejas;\"\"\"\n",
        "\n",
        "len(re.findall(r\"mal\", poema))"
      ]
    },
    {
      "cell_type": "markdown",
      "source": [
        "## Disjunção"
      ],
      "metadata": {
        "id": "Uj96wXWHi29m"
      }
    },
    {
      "cell_type": "code",
      "source": [
        "import re\n",
        "\n",
        "poema = \"\"\"Ainda que mal pergunte,\n",
        "ainda que mal respondas;\n",
        "ainda que mal te entenda,\n",
        "ainda que mal repitas;\n",
        "ainda que mal insista,\n",
        "ainda que mal desculpes;\n",
        "ainda que mal me exprima,\n",
        "ainda que mal me julgues;\n",
        "ainda que mal me mostre,\n",
        "ainda que mal me vejas;\"\"\"\n",
        "\n",
        "len(re.findall(r\"[Aa]inda que mal\", poema))"
      ],
      "metadata": {
        "colab": {
          "base_uri": "https://localhost:8080/"
        },
        "id": "YD3GRuqejB1V",
        "outputId": "c09c517b-177b-4133-cc4e-68f0675aad53"
      },
      "execution_count": 3,
      "outputs": [
        {
          "output_type": "execute_result",
          "data": {
            "text/plain": [
              "10"
            ]
          },
          "metadata": {},
          "execution_count": 3
        }
      ]
    },
    {
      "cell_type": "markdown",
      "source": [
        "## Disjunção e Intervalos"
      ],
      "metadata": {
        "id": "agv9eL3KlxgR"
      }
    },
    {
      "cell_type": "code",
      "source": [
        "import re\n",
        "\n",
        "descricao = \"\"\"Smart TV LED 43\" LG 43UJ6525 Ultra HD 4K com Conversos Digital 4 HDMI 2 USB WebOS 3.5 Painel Ips HDR e\n",
        "Smartphone Motorola Moto G 5S Dual Chip Android 7.1.1 Nougat Tela 5.2\" Snapdragon 430 32GB 4G Câmera 16MP - Platinum\"\"\"\n",
        "\n",
        "len(re.findall(r\"[0-9]\", descricao))"
      ],
      "metadata": {
        "colab": {
          "base_uri": "https://localhost:8080/"
        },
        "id": "in_mLnrGjUzN",
        "outputId": "21c8ddd9-746e-4d0e-8a70-f6d3c195746a"
      },
      "execution_count": 10,
      "outputs": [
        {
          "output_type": "execute_result",
          "data": {
            "text/plain": [
              "27"
            ]
          },
          "metadata": {},
          "execution_count": 10
        }
      ]
    },
    {
      "cell_type": "markdown",
      "source": [
        "## Negação na Disjunção"
      ],
      "metadata": {
        "id": "8xzmefuKnsN0"
      }
    },
    {
      "cell_type": "code",
      "source": [
        "import re\n",
        "\n",
        "poema = \"\"\"Eu sou aquela mulher\n",
        "a quem o tempo\n",
        "muito ensinou.\n",
        "Ensinou a amar a vida.\n",
        "Não desistir da luta.\n",
        "Recomeçar na derrota.\"\"\"\n",
        "\n",
        "len(re.findall(r\"[^a-z]\", poema))"
      ],
      "metadata": {
        "colab": {
          "base_uri": "https://localhost:8080/"
        },
        "id": "Gefg1Vqznv0a",
        "outputId": "066582f8-cd77-442d-e9a8-7469f5cac30f"
      },
      "execution_count": 12,
      "outputs": [
        {
          "output_type": "execute_result",
          "data": {
            "text/plain": [
              "31"
            ]
          },
          "metadata": {},
          "execution_count": 12
        }
      ]
    },
    {
      "cell_type": "markdown",
      "source": [
        "## Múltiplos Padrões de Busca"
      ],
      "metadata": {
        "id": "IFmTJOCQo25l"
      }
    },
    {
      "cell_type": "code",
      "source": [
        "import re\n",
        "\n",
        "poema =  \"\"\"No meio do caminho tinha uma pedra\n",
        "Tinha uma pedra no meio do caminho\n",
        "Tinha uma pedra\n",
        "No meio do caminho tinha uma pedra\"\"\"\n",
        "\n",
        "re.findall(r\"pedra|[Tt]inha\", poema)"
      ],
      "metadata": {
        "colab": {
          "base_uri": "https://localhost:8080/"
        },
        "id": "PtuGUXNYo679",
        "outputId": "678ae664-9b59-4b9d-ddd3-f1707919e29d"
      },
      "execution_count": 14,
      "outputs": [
        {
          "output_type": "execute_result",
          "data": {
            "text/plain": [
              "['tinha', 'pedra', 'Tinha', 'pedra', 'Tinha', 'pedra', 'tinha', 'pedra']"
            ]
          },
          "metadata": {},
          "execution_count": 14
        }
      ]
    },
    {
      "cell_type": "markdown",
      "source": [
        "## Quantificadores"
      ],
      "metadata": {
        "id": "WeVOCoyxr5jP"
      }
    },
    {
      "cell_type": "code",
      "source": [
        "import re\n",
        "\n",
        "fala = \"\"\"Pode checar a conta ABC4323?\n",
        "Emitir segunda via do boleto de Dezembro da conta YIC9834.\n",
        "Meu nome é Thiago, portador da conta NHD8432. Quantos créditos tenho?\"\"\"\n",
        "\n",
        "re.findall(r\"\\b[A-Z]{3}[0-9]{4}\\b\", fala)"
      ],
      "metadata": {
        "colab": {
          "base_uri": "https://localhost:8080/"
        },
        "id": "6T_si9RYr8K9",
        "outputId": "f9d17fd4-82fb-41be-a7f5-d36465ba4211"
      },
      "execution_count": 15,
      "outputs": [
        {
          "output_type": "execute_result",
          "data": {
            "text/plain": [
              "['ABC4323', 'YIC9834', 'NHD8432']"
            ]
          },
          "metadata": {},
          "execution_count": 15
        }
      ]
    },
    {
      "cell_type": "code",
      "source": [
        "import re\n",
        "\n",
        "numeros = \"\"\"+55 11 98533-4532\n",
        "02127-090\n",
        "02184-746\n",
        "11 94739-0927\n",
        "93849-8732\n",
        "04532-828\"\"\"\n",
        "\n",
        "re.findall(r\"\\b[0-9]{5}-[0-9]{3}\\b\", numeros)"
      ],
      "metadata": {
        "colab": {
          "base_uri": "https://localhost:8080/"
        },
        "id": "IJF5lz0pspF1",
        "outputId": "27542c26-71a3-4a02-d2d5-b01d24bd0cd3"
      },
      "execution_count": 16,
      "outputs": [
        {
          "output_type": "execute_result",
          "data": {
            "text/plain": [
              "['02127-090', '02184-746', '04532-828']"
            ]
          },
          "metadata": {},
          "execution_count": 16
        }
      ]
    },
    {
      "cell_type": "markdown",
      "source": [
        "## Agrupamento"
      ],
      "metadata": {
        "id": "y5tB2h5bu9kX"
      }
    },
    {
      "cell_type": "code",
      "source": [
        "import re\n",
        "\n",
        "amostras = \"\"\"Hahahahaha\n",
        "Huahuahuahuahua\n",
        "Haha\n",
        "kkkk\n",
        "hahahahahaha\n",
        "\"\"\"\n",
        "\n",
        "regex = re.compile(r\"k+|([Hh]a)+|([Hh]ua)+\")\n",
        "iterador = regex.finditer(amostras)\n",
        "\n",
        "for ex in iterador:\n",
        "  inicio, fim = ex.span()\n",
        "  print(inicio, fim, amostras[inicio:fim])"
      ],
      "metadata": {
        "colab": {
          "base_uri": "https://localhost:8080/"
        },
        "id": "ZwvwjgFPvCFG",
        "outputId": "8333d9c9-a5fd-454b-d85f-fe4fe88b31bf"
      },
      "execution_count": 22,
      "outputs": [
        {
          "output_type": "stream",
          "name": "stdout",
          "text": [
            "0 10 Hahahahaha\n",
            "12 27 Huahuahuahuahua\n",
            "29 33 Haha\n",
            "34 38 kkkk\n",
            "39 51 hahahahahaha\n"
          ]
        }
      ]
    },
    {
      "cell_type": "markdown",
      "source": [
        "## Substituição"
      ],
      "metadata": {
        "id": "_QEEvJF6v9KV"
      }
    },
    {
      "cell_type": "code",
      "source": [
        "import re\n",
        "\n",
        "texto = \"\"\"Reconheço que tomei decisões insatisfatórias recentemente, mas posso lhe garantir com absoluta certeza que meu trabalho voltará ao normal.\"\"\"\n",
        "\n",
        "re.sub(r\"[,;.!?:]\", \"\", texto)"
      ],
      "metadata": {
        "colab": {
          "base_uri": "https://localhost:8080/",
          "height": 35
        },
        "id": "fAQWy4tDvqRw",
        "outputId": "c86c550b-1a41-42e4-9e1f-45258b825b4c"
      },
      "execution_count": 23,
      "outputs": [
        {
          "output_type": "execute_result",
          "data": {
            "text/plain": [
              "'Reconheço que tomei decisões insatisfatórias recentemente mas posso lhe garantir com absoluta certeza que meu trabalho voltará ao normal'"
            ],
            "application/vnd.google.colaboratory.intrinsic+json": {
              "type": "string"
            }
          },
          "metadata": {},
          "execution_count": 23
        }
      ]
    },
    {
      "cell_type": "markdown",
      "source": [
        "## Memória"
      ],
      "metadata": {
        "id": "cY6fR0S1ww4B"
      }
    },
    {
      "cell_type": "code",
      "source": [
        "import re\n",
        "\n",
        "texto = \"\"\"Reconheço que tomei decisões insatisfatórias recentemente, mas posso lhe garantir com absoluta certeza que meu trabalho voltará ao normal.\"\"\"\n",
        "\n",
        "re.sub(r\"([,;.!?:])\", r\" \\1\", texto)"
      ],
      "metadata": {
        "colab": {
          "base_uri": "https://localhost:8080/",
          "height": 35
        },
        "id": "OKRsiwy1wyw3",
        "outputId": "edec7e65-d5e0-482a-e2d0-859be9802116"
      },
      "execution_count": 24,
      "outputs": [
        {
          "output_type": "execute_result",
          "data": {
            "text/plain": [
              "'Reconheço que tomei decisões insatisfatórias recentemente , mas posso lhe garantir com absoluta certeza que meu trabalho voltará ao normal .'"
            ],
            "application/vnd.google.colaboratory.intrinsic+json": {
              "type": "string"
            }
          },
          "metadata": {},
          "execution_count": 24
        }
      ]
    },
    {
      "cell_type": "code",
      "source": [
        "import re\n",
        "\n",
        "cep = \"02125-000\"\n",
        "\n",
        "re.sub(r\"([0-9]{5})-([0-9]{3})\", r\"\\2-\\1\", cep)"
      ],
      "metadata": {
        "colab": {
          "base_uri": "https://localhost:8080/",
          "height": 35
        },
        "id": "c0RocMIxw74p",
        "outputId": "ae8eebc6-31cf-47ab-9ca2-57e56935745b"
      },
      "execution_count": 27,
      "outputs": [
        {
          "output_type": "execute_result",
          "data": {
            "text/plain": [
              "'000-02125'"
            ],
            "application/vnd.google.colaboratory.intrinsic+json": {
              "type": "string"
            }
          },
          "metadata": {},
          "execution_count": 27
        }
      ]
    }
  ]
}