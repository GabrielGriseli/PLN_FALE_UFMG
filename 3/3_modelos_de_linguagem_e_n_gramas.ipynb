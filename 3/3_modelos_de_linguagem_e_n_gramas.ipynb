{
  "nbformat": 4,
  "nbformat_minor": 0,
  "metadata": {
    "colab": {
      "provenance": [],
      "toc_visible": true,
      "authorship_tag": "ABX9TyOU1krITXHS0UpQ5jDDPFRL",
      "include_colab_link": true
    },
    "kernelspec": {
      "name": "python3",
      "display_name": "Python 3"
    },
    "language_info": {
      "name": "python"
    }
  },
  "cells": [
    {
      "cell_type": "markdown",
      "metadata": {
        "id": "view-in-github",
        "colab_type": "text"
      },
      "source": [
        "<a href=\"https://colab.research.google.com/github/GabrielGriseli/PLN_FALE_UFMG/blob/main/3/3_modelos_de_linguagem_e_n_gramas.ipynb\" target=\"_parent\"><img src=\"https://colab.research.google.com/assets/colab-badge.svg\" alt=\"Open In Colab\"/></a>"
      ]
    },
    {
      "cell_type": "markdown",
      "source": [
        "# Modelos de Linguagem e N-gramas\n",
        "\n",
        "Ano passado eu morri, mas este ano eu não _____.\n",
        "\n",
        "*   vivo\n",
        "*   morro\n",
        "*   como\n",
        "*   corro\n",
        "\n",
        "Dado o contexto, qual a palavra mais provável?\n",
        "\n",
        "Resposta: **morro** - Sujeito de Sorte - Belchior (1976)\n",
        "\n",
        "---\n",
        "\n",
        "Eu no supermercado de bicicleta vou.\n",
        "\n",
        "**vs.**\n",
        "\n",
        "**Eu vou de bicicleta no supermercado.**\n",
        "\n",
        "Qual a sentença mais provável?\n",
        "\n",
        "---\n",
        "\n",
        "Poderoso você se tornou, o lado negro eu sinto em você.\n",
        "\n",
        "**vs.**\n",
        "\n",
        "Você se tornou poderoso, eu sinto o lado negro em você.\n",
        "\n",
        "Qual a sentença mais provável?\n",
        "\n",
        "Mestre Yoda escolheira a primeira :-)\n",
        "\n",
        "---\n",
        "\n",
        "Ouviram do Ipiranga as margens plácidas de um poco heróico o brado retumbante.\n",
        "\n",
        "**vs.**\n",
        "\n",
        "As margens plácidas do Ipiranga ouviram um brado retumbante de um povo heróico.\n",
        "\n",
        "Qual a sentença mais provável?"
      ],
      "metadata": {
        "id": "vcnwenBp-qAF"
      }
    },
    {
      "cell_type": "markdown",
      "source": [
        "## Questão\n",
        "\n",
        "Como ensinar um computador a definir as chances de uma palavra ou texto?"
      ],
      "metadata": {
        "id": "e5hUQr9ZB4R6"
      }
    },
    {
      "cell_type": "markdown",
      "source": [
        "## Cálculo de Probabilidades\n",
        "\n",
        "Em Processamento de Língua Natural, um computador pode definir as chances de uma palavra ou texto através do **cálculo de probabilidades**:\n",
        "\n",
        "$$ P(w_{5} | w_{1}, w_{2}, w_{3}, w_{4}) $$\n",
        "\n",
        "Qual a probabilidade de uma palavra $ w_{5} $ dada a sequência de palavras $ w_{1}, w_{2}, w_{3}, w_{4} $?\n",
        "\n",
        "$$ P(w_{1}, w_{2}, w_{3}, w_{4}, w_{5}) $$\n",
        "\n",
        "Qual a probabilidade de um texto composto pela sequência de palavras $ w_{1}, w_{2}, w_{3}, w_{4}, w_{5} $?"
      ],
      "metadata": {
        "id": "KCuvKG59CEgK"
      }
    },
    {
      "cell_type": "markdown",
      "source": [
        "### Probabilidade da Próxima Palavra\n",
        "\n",
        "**Aplicações de geração de texto** produzem palavra por palavra a partir de suas probabilidades com base na sequência já gerada:\n",
        "\n",
        "| **Sequência**                            | **Próxima** | **Prob.** |\n",
        "|------------------------------------------|-------------|-----------|\n",
        "| Minha terra tem palmeiras, Onde canta o  | Pássaro     | 0,001     |\n",
        "|                                          | Homem       | 0,000001  |\n",
        "|                                          | **Sabiá**   | **0,031** |\n",
        "|                                          | Lobo        | 0,00001   |\n",
        "\n",
        "Probabilidade de 4 candidatas a próxima palavra de uma sequência de texto. **Sabiá** é a palavra inferida com probabilidade de 0,031, maior entre as 4 candidatas."
      ],
      "metadata": {
        "id": "KticyvwSDL5h"
      }
    },
    {
      "cell_type": "markdown",
      "source": [
        "### Probabilidade da Sentença\n",
        "\n",
        "Aplicações como **Máquinas de Tradução** definem a melhor tradução para uma sentença com base na probebilidade de cada tradução candidata.\n",
        "\n",
        "| **Sentença** | **Tradução**           | **Probabilidade** |\n",
        "|--------------|------------------------|-------------------|\n",
        "| 我在UFMG学习 | **Eu estudo na UFMG.** | **0.005**         |\n",
        "|              | Eu na UFMG estudo.     | 0.00002           |\n",
        "|              | Eu trabalho na UFMG.   | 0.0003            |\n",
        "\n",
        "Sentença em Chinês e as traduções candidatas em Português juntamente com suas probabilidades.\n",
        "\n",
        "Aplicações para correção de erros ortográficos também podem ser baseadas na probabilidade de sentenças:\n",
        "\n",
        "|                                      |   |                                     |\n",
        "|--------------------------------------|---|-------------------------------------|\n",
        "| **Texto Original**                   |   | Te encontro em 5 minutus.           |\n",
        "| **Opções pela Distância de Edição:** |   | minutos e minutas                   |\n",
        "| P(te, encontro, em, 5, **minutos**)  | > | P(te, encontro, em, 5, **minutas**) |"
      ],
      "metadata": {
        "id": "EyT98ytcEo2J"
      }
    },
    {
      "cell_type": "markdown",
      "source": [
        "## Modelo de Linguagem\n",
        "\n",
        "Nome dado para modelos computacionais que inferem a probabilidade de uma sequência de palavras.\n",
        "\n",
        "Utilizado para a próxima palavra dada uma sequência\n",
        "\n",
        "$$ P(w_{5} | w_{1}, w_{2}, w_{3}, w_{4}) $$\n",
        "\n",
        "Utilizado para preves a ocorrência de uma sequência de palavras (sentença, texto, etc.)\n",
        "\n",
        "$$ P(w_{1}, w_{2}, w_{3}, w_{4}, w_{5}) $$"
      ],
      "metadata": {
        "id": "tBT3lkDNH5Le"
      }
    },
    {
      "cell_type": "markdown",
      "source": [
        "### Regra da Cadeia\n",
        "\n",
        "**Definição:** A probabilidade de uma sentença pode ser estimada através da regra da cadeia, i.e., a multiplicação das probabilidades de cada palavra, estimada com base nas palavras anteriores:\n",
        "\n",
        "$$ P(w_{1}, w_{2}, w_{3}, w_{4}) = P(w_{1}) \\times P(w_{2} | w_{1}) \\times P(w_{3} | w_{1}, w_{2}) \\times P(w_{4} | w_{1}, w_{2}, w_{3}) $$\n",
        "\n",
        "**Exemplo:**\n",
        "\n",
        "$$ \\mathbf{P(Minha \\, terra \\, tem \\, palmeiras) = P(Minha) \\times P(terra | Minha) \\times P(tem | Minha, terra) \\times P(palmeiras | Minha, terra, tem)} $$"
      ],
      "metadata": {
        "id": "cmkUZB5vIVcn"
      }
    },
    {
      "cell_type": "markdown",
      "source": [
        "### Estimando Probabilidades\n",
        "\n",
        "Baseado num **corpus com muitas sentenças**, podemos estimar as probabilidades gazendo a contagem das sequências.\n",
        "\n",
        "**Exemplo:**\n",
        "\n",
        "$$ P(palmeiras | Minha, terra, tem)=\\frac{contar(Minha, terra, tem, palmeiras)}{contar(Minha, terra, tem)} $$\n",
        "\n",
        "**Problema:**\n",
        "\n",
        "Por maior que seja o córpus utilizado, muitas sequências longas não serão encontradas, resultando numa **probabilidade de valor 0**. Isso não é bom..."
      ],
      "metadata": {
        "id": "ZScQiBtnJwKV"
      }
    },
    {
      "cell_type": "markdown",
      "source": [
        "## Propriedades de Markov\n",
        "\n",
        "**História:**\n",
        "\n",
        "Em 1913, Andrei Markov utilizou a **cadeia de Markov** para prever se, dada uma sequência do livro \"Eugene Onegin\", de Alexandre Pushkin, o próximo caractere era uma vogal ou consoante.\n",
        "\n",
        "**Cadeia de Markov:**\n",
        "\n",
        "Popularmente chamada de **N-gramas**, assume que a próxima palavra pode ser prevista com um pequeno conjunto de palavras prévias da sequência:\n",
        "\n",
        "$$ \\mathbf{P(<S> \\, Minha \\, terra \\, tem \\, palmeiras) = P(Minha | <S>) \\times P(terra | Minha) \\times P(tem | \\widetilde{Minha}, terra) \\times P(palmeiras | \\widetilde{Minha, terra}, tem)} $$"
      ],
      "metadata": {
        "id": "NJs8esatLfxU"
      }
    },
    {
      "cell_type": "markdown",
      "source": [
        "### N-gramas\n",
        "\n",
        "\n",
        "\n",
        "*   Comumente, o cálculo de probabilidade da próxima palavra é feito com **bigramas** (sequência de 2 palavras) ou **trigramas** (sequência de 3 palavras)\n",
        "*   Contudo, 4gramas, 5gramas, Ngramas podem ser utilizados.\n",
        "*   Marcadores de início e fim de sentença devem ser utilizados.\n",
        "\n",
        "**Bigrama:**\n",
        "\n",
        "$$ P(palmeiras | tem)=\\frac{contar(tem, palmeiras)}{contar(tem)} $$\n",
        "\n",
        "**Trigrama:**\n",
        "\n",
        "$$ P(Minha | <S>, <S>)=\\frac{contar(<S>, <S>, Minha)}{contar(<S>, <S>)} $$\n"
      ],
      "metadata": {
        "id": "SqXpi6oXBN3r"
      }
    },
    {
      "cell_type": "markdown",
      "source": [
        "## Desafio\n",
        "\n",
        "no meio do caminho tinha uma pedra\n",
        "\n",
        "tinha uma pedra no meio do caminho\n",
        "\n",
        "tinha uma pedra\n",
        "\n",
        "no meio do caminho tinha uma pedra\n",
        "\n",
        "Quantos **unigramas** existem no trecho do poema \"No Meio do Caminho\" de Carlos Drummond de Andrade ao lado?\n",
        "\n",
        "*   no\n",
        "*   meio\n",
        "*   do\n",
        "*   caminho\n",
        "*   tinha\n",
        "*   uma\n",
        "*   pedra\n",
        "\n",
        "**Resposta: 7**\n",
        "\n",
        "Qual a probabilidade dos unigramas abaixo no trecho do poema ao lado?\n",
        "\n",
        "| **Unigrama** | **Cálculo** | **Resultado** |\n",
        "|--------------|-------------|---------------|\n",
        "| P(no)        | 3 ÷ 24      | 0,125         |\n",
        "| P(meio)      | 3 ÷ 24      | 0,125         |\n",
        "| P(do)        | 3 ÷ 24      | 0,125         |\n",
        "| P(caminho)   | 3 ÷ 24      | 0,125         |\n",
        "| P(tinha)     | 4 ÷ 24      | 0,17          |\n",
        "| P(uma)       | 4 ÷ 24      | 0,17          |\n",
        "| P(pedra)     | 4 ÷ 24      | 0,17          |\n",
        "\n",
        "Quantos **bigramas** existem no trecho do poema \"No Meio do Caminho\" de Carlos Drummond de Andrade ao lado?\n",
        "\n",
        "(\\<s>, no), (no, meio), (meio, do), (do, caminho), (caminho, tinha), (tinha, uma), (uma, pedra), (pedra, \\</s>), (\\<s>, tinha), (pedra, no), (caminho, \\</s>)\n",
        "\n",
        "**Resposta: 11**\n",
        "\n",
        "Qual a probabilidade dos **bigramas** abaixo no trecho do poema?\n",
        "\n",
        "| **Bigrama**         | **Cálculo** | **Resultado** |\n",
        "|---------------------|-------------|---------------|\n",
        "| P(no \\| \\<s>)        | 2 ÷ 4       | 0,5           |\n",
        "| P(meio \\| no)       | 3 ÷ 3       | 1             |\n",
        "| P(do \\| meio)       | 3 ÷ 3       | 1             |\n",
        "| P(caminho \\| do)    | 3 ÷ 3       | 1             |\n",
        "| P(tinha \\| caminho) | 2 ÷ 3       | 0,67          |\n",
        "| P(uma \\| tinha)     | 4 ÷ 4       | 1             |\n",
        "| P(pedra \\| uma)     | 4 ÷ 4       | 1             |\n",
        "| P(\\</s> \\| pedra)    | 3 ÷ 4       | 0,75          |\n",
        "| P(tinha \\| \\<s>)     | 2 ÷ 4       | 0,5           |\n",
        "| P(no \\| pedra)      | 1 ÷ 4       | 0,25          |\n",
        "| P(\\</s> \\| caminho)  | 1 ÷ 3       | 0,34          |\n",
        "\n",
        "De acordo com os bigramas computados, qual a probabilidade do verso abaixo?\n",
        "\n",
        "\\<s>tinha uma pedra \\</s>\n",
        "\n",
        "$$ P(<s>, tinha, uma, pedra, </s>) = $$\n",
        "$$ P(tinha | <s>) \\times P(uma | tinha) \\times P(pedra | uma) \\times P(</s> | pedra) = $$\n",
        "$$ 0,5 \\times 1 \\times 1 \\times 0,75 = $$\n",
        "$$ \\mathbf{0,375} $$"
      ],
      "metadata": {
        "id": "PZuYdollWDVf"
      }
    }
  ]
}